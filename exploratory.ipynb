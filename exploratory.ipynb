{
 "cells": [
  {
   "cell_type": "markdown",
   "id": "84d0d2db",
   "metadata": {},
   "source": [
    "# notebook to explore the dataset\n",
    "dataset: "
   ]
  },
  {
   "cell_type": "code",
   "execution_count": null,
   "id": "5d7cb2d6",
   "metadata": {},
   "outputs": [],
   "source": [
    "import pandas as pd\n",
    "import numpy as np\n",
    "import os\n",
    "import sys\n"
   ]
  },
  {
   "cell_type": "code",
   "execution_count": null,
   "id": "493236ac",
   "metadata": {},
   "outputs": [],
   "source": [
    "# load data\n",
    "filepath = ''\n",
    "raw_data = pd.read_csv(filepath, sep=\"\\t\", header=None)\n",
    "raw_data.describe()\n"
   ]
  },
  {
   "cell_type": "markdown",
   "id": "53464153",
   "metadata": {},
   "source": [
    "gebalanceerd? \n",
    "moet er cleaning gebeuren? \n",
    "klassificatie/regressie?"
   ]
  },
  {
   "cell_type": "code",
   "execution_count": null,
   "id": "dcce215d",
   "metadata": {},
   "outputs": [],
   "source": [
    "# view data"
   ]
  },
  {
   "cell_type": "code",
   "execution_count": null,
   "id": "00e730cd",
   "metadata": {},
   "outputs": [],
   "source": [
    "# clean data?"
   ]
  }
 ],
 "metadata": {
  "language_info": {
   "name": "python"
  }
 },
 "nbformat": 4,
 "nbformat_minor": 5
}
